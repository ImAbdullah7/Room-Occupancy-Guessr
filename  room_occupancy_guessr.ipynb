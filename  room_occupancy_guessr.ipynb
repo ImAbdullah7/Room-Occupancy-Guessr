{
 "cells": [
  {
   "cell_type": "code",
   "execution_count": 45,
   "id": "9edc698f",
   "metadata": {},
   "outputs": [],
   "source": [
    "import pandas as pd\n",
    "\n",
    "from sklearn.model_selection import train_test_split\n",
    "from sklearn.metrics import classification_report\n",
    "from sklearn.neighbors import KNeighborsClassifier\n",
    "from sklearn.naive_bayes import GaussianNB\n",
    "from sklearn.cluster import KMeans\n",
    "from sklearn.tree import DecisionTreeClassifier\n",
    "\n",
    "from time import time\n",
    "from collections import Counter"
   ]
  },
  {
   "cell_type": "code",
   "execution_count": 46,
   "id": "3e59983a",
   "metadata": {},
   "outputs": [
    {
     "data": {
      "text/html": [
       "<div>\n",
       "<style scoped>\n",
       "    .dataframe tbody tr th:only-of-type {\n",
       "        vertical-align: middle;\n",
       "    }\n",
       "\n",
       "    .dataframe tbody tr th {\n",
       "        vertical-align: top;\n",
       "    }\n",
       "\n",
       "    .dataframe thead th {\n",
       "        text-align: right;\n",
       "    }\n",
       "</style>\n",
       "<table border=\"1\" class=\"dataframe\">\n",
       "  <thead>\n",
       "    <tr style=\"text-align: right;\">\n",
       "      <th></th>\n",
       "      <th>S1_Temp</th>\n",
       "      <th>S2_Temp</th>\n",
       "      <th>S3_Temp</th>\n",
       "      <th>S4_Temp</th>\n",
       "      <th>S1_Light</th>\n",
       "      <th>S2_Light</th>\n",
       "      <th>S3_Light</th>\n",
       "      <th>S4_Light</th>\n",
       "      <th>S1_Sound</th>\n",
       "      <th>S2_Sound</th>\n",
       "      <th>S3_Sound</th>\n",
       "      <th>S4_Sound</th>\n",
       "      <th>S5_CO2</th>\n",
       "      <th>S5_CO2_Slope</th>\n",
       "      <th>S6_PIR</th>\n",
       "      <th>S7_PIR</th>\n",
       "      <th>Room_Occupancy_Count</th>\n",
       "    </tr>\n",
       "  </thead>\n",
       "  <tbody>\n",
       "    <tr>\n",
       "      <th>0</th>\n",
       "      <td>24.94</td>\n",
       "      <td>24.75</td>\n",
       "      <td>24.56</td>\n",
       "      <td>25.38</td>\n",
       "      <td>121</td>\n",
       "      <td>34</td>\n",
       "      <td>53</td>\n",
       "      <td>40</td>\n",
       "      <td>0.08</td>\n",
       "      <td>0.19</td>\n",
       "      <td>0.06</td>\n",
       "      <td>0.06</td>\n",
       "      <td>390</td>\n",
       "      <td>0.769231</td>\n",
       "      <td>0</td>\n",
       "      <td>0</td>\n",
       "      <td>1</td>\n",
       "    </tr>\n",
       "    <tr>\n",
       "      <th>1</th>\n",
       "      <td>24.94</td>\n",
       "      <td>24.75</td>\n",
       "      <td>24.56</td>\n",
       "      <td>25.44</td>\n",
       "      <td>121</td>\n",
       "      <td>33</td>\n",
       "      <td>53</td>\n",
       "      <td>40</td>\n",
       "      <td>0.93</td>\n",
       "      <td>0.05</td>\n",
       "      <td>0.06</td>\n",
       "      <td>0.06</td>\n",
       "      <td>390</td>\n",
       "      <td>0.646154</td>\n",
       "      <td>0</td>\n",
       "      <td>0</td>\n",
       "      <td>1</td>\n",
       "    </tr>\n",
       "    <tr>\n",
       "      <th>2</th>\n",
       "      <td>25.00</td>\n",
       "      <td>24.75</td>\n",
       "      <td>24.50</td>\n",
       "      <td>25.44</td>\n",
       "      <td>121</td>\n",
       "      <td>34</td>\n",
       "      <td>53</td>\n",
       "      <td>40</td>\n",
       "      <td>0.43</td>\n",
       "      <td>0.11</td>\n",
       "      <td>0.08</td>\n",
       "      <td>0.06</td>\n",
       "      <td>390</td>\n",
       "      <td>0.519231</td>\n",
       "      <td>0</td>\n",
       "      <td>0</td>\n",
       "      <td>1</td>\n",
       "    </tr>\n",
       "    <tr>\n",
       "      <th>3</th>\n",
       "      <td>25.00</td>\n",
       "      <td>24.75</td>\n",
       "      <td>24.56</td>\n",
       "      <td>25.44</td>\n",
       "      <td>121</td>\n",
       "      <td>34</td>\n",
       "      <td>53</td>\n",
       "      <td>40</td>\n",
       "      <td>0.41</td>\n",
       "      <td>0.10</td>\n",
       "      <td>0.10</td>\n",
       "      <td>0.09</td>\n",
       "      <td>390</td>\n",
       "      <td>0.388462</td>\n",
       "      <td>0</td>\n",
       "      <td>0</td>\n",
       "      <td>1</td>\n",
       "    </tr>\n",
       "    <tr>\n",
       "      <th>4</th>\n",
       "      <td>25.00</td>\n",
       "      <td>24.75</td>\n",
       "      <td>24.56</td>\n",
       "      <td>25.44</td>\n",
       "      <td>121</td>\n",
       "      <td>34</td>\n",
       "      <td>54</td>\n",
       "      <td>40</td>\n",
       "      <td>0.18</td>\n",
       "      <td>0.06</td>\n",
       "      <td>0.06</td>\n",
       "      <td>0.06</td>\n",
       "      <td>390</td>\n",
       "      <td>0.253846</td>\n",
       "      <td>0</td>\n",
       "      <td>0</td>\n",
       "      <td>1</td>\n",
       "    </tr>\n",
       "  </tbody>\n",
       "</table>\n",
       "</div>"
      ],
      "text/plain": [
       "   S1_Temp  S2_Temp  S3_Temp  S4_Temp  S1_Light  S2_Light  S3_Light  S4_Light  \\\n",
       "0    24.94    24.75    24.56    25.38       121        34        53        40   \n",
       "1    24.94    24.75    24.56    25.44       121        33        53        40   \n",
       "2    25.00    24.75    24.50    25.44       121        34        53        40   \n",
       "3    25.00    24.75    24.56    25.44       121        34        53        40   \n",
       "4    25.00    24.75    24.56    25.44       121        34        54        40   \n",
       "\n",
       "   S1_Sound  S2_Sound  S3_Sound  S4_Sound  S5_CO2  S5_CO2_Slope  S6_PIR  \\\n",
       "0      0.08      0.19      0.06      0.06     390      0.769231       0   \n",
       "1      0.93      0.05      0.06      0.06     390      0.646154       0   \n",
       "2      0.43      0.11      0.08      0.06     390      0.519231       0   \n",
       "3      0.41      0.10      0.10      0.09     390      0.388462       0   \n",
       "4      0.18      0.06      0.06      0.06     390      0.253846       0   \n",
       "\n",
       "   S7_PIR  Room_Occupancy_Count  \n",
       "0       0                     1  \n",
       "1       0                     1  \n",
       "2       0                     1  \n",
       "3       0                     1  \n",
       "4       0                     1  "
      ]
     },
     "execution_count": 46,
     "metadata": {},
     "output_type": "execute_result"
    }
   ],
   "source": [
    "df = pd.read_csv('Occupancy_Estimation.csv')\n",
    "df.head()"
   ]
  },
  {
   "cell_type": "code",
   "execution_count": 47,
   "id": "8dc7c57d",
   "metadata": {
    "scrolled": true
   },
   "outputs": [],
   "source": [
    "y = df['Room_Occupancy_Count']\n",
    "x = df.drop(['Room_Occupancy_Count'], axis = 1)\n",
    "\n",
    "from sklearn.model_selection import train_test_split\n",
    "x_train, x_test, y_train, y_test = train_test_split(x, y, test_size = 0.3)"
   ]
  },
  {
   "cell_type": "code",
   "execution_count": 48,
   "id": "1f3633ca",
   "metadata": {},
   "outputs": [],
   "source": [
    "def classify(model, x_train, y_train, x_test, y_test):\n",
    "    train_t = time()\n",
    "    model.fit(x_train, y_train)\n",
    "    print(f'training time: {time() - train_t:.3f}s')\n",
    "    \n",
    "    test_t = time()\n",
    "    prediction = model.predict(x_test)\n",
    "    print(f'testing time: {time() - test_t:.3f}s')\n",
    "    \n",
    "    print(classification_report(y_test,prediction))"
   ]
  },
  {
   "cell_type": "code",
   "execution_count": 49,
   "id": "71af24a1",
   "metadata": {},
   "outputs": [
    {
     "name": "stdout",
     "output_type": "stream",
     "text": [
      "training time: 0.004s\n",
      "testing time: 0.059s\n",
      "              precision    recall  f1-score   support\n",
      "\n",
      "           0       1.00      1.00      1.00       626\n",
      "           1       1.00      0.99      0.99       151\n",
      "           2       0.97      0.98      0.97       158\n",
      "           3       0.97      0.97      0.97       115\n",
      "\n",
      "    accuracy                           0.99      1050\n",
      "   macro avg       0.99      0.99      0.99      1050\n",
      "weighted avg       0.99      0.99      0.99      1050\n",
      "\n"
     ]
    }
   ],
   "source": [
    "knn = KNeighborsClassifier(n_neighbors=6)\n",
    "classify(knn, x_train, y_train, x_test, y_test)"
   ]
  },
  {
   "cell_type": "code",
   "execution_count": 50,
   "id": "a20ba2d0",
   "metadata": {},
   "outputs": [
    {
     "name": "stdout",
     "output_type": "stream",
     "text": [
      "training time: 0.012s\n",
      "testing time: 0.002s\n",
      "              precision    recall  f1-score   support\n",
      "\n",
      "           0       1.00      1.00      1.00       626\n",
      "           1       1.00      0.98      0.99       151\n",
      "           2       0.96      0.97      0.97       158\n",
      "           3       0.97      0.97      0.97       115\n",
      "\n",
      "    accuracy                           0.99      1050\n",
      "   macro avg       0.98      0.98      0.98      1050\n",
      "weighted avg       0.99      0.99      0.99      1050\n",
      "\n"
     ]
    }
   ],
   "source": [
    "dtc = DecisionTreeClassifier()\n",
    "classify(dtc, x_train, y_train, x_test, y_test)"
   ]
  },
  {
   "cell_type": "code",
   "execution_count": 51,
   "id": "2cb5cab6",
   "metadata": {},
   "outputs": [
    {
     "name": "stdout",
     "output_type": "stream",
     "text": [
      "training time: 0.008s\n",
      "testing time: 0.004s\n",
      "              precision    recall  f1-score   support\n",
      "\n",
      "           0       1.00      0.99      1.00       626\n",
      "           1       1.00      0.96      0.98       151\n",
      "           2       0.92      0.97      0.94       158\n",
      "           3       0.96      0.99      0.97       115\n",
      "\n",
      "    accuracy                           0.98      1050\n",
      "   macro avg       0.97      0.98      0.97      1050\n",
      "weighted avg       0.98      0.98      0.98      1050\n",
      "\n"
     ]
    }
   ],
   "source": [
    "gnb = GaussianNB()\n",
    "classify(gnb, x_train, y_train, x_test, y_test)"
   ]
  },
  {
   "cell_type": "code",
   "execution_count": 52,
   "id": "0c925bf8",
   "metadata": {
    "scrolled": false
   },
   "outputs": [
    {
     "name": "stdout",
     "output_type": "stream",
     "text": [
      "training time: 0.051s\n",
      "testing time: 0.003s\n",
      "cluster 0:  Counter({0: 106, 2: 68, 1: 50})\n",
      "cluster 1:  Counter({0: 487, 1: 100})\n",
      "cluster 2:  Counter({2: 85, 3: 4, 1: 1})\n",
      "cluster 3:  Counter({3: 111, 0: 33, 2: 5})\n"
     ]
    }
   ],
   "source": [
    "km = KMeans(n_clusters = 4, random_state=7)\n",
    "train_t = time()\n",
    "km.fit(x_train)\n",
    "print(f'training time: {time() - train_t:.3f}s')\n",
    "\n",
    "test_t = time()\n",
    "prediction = km.predict(x_test)\n",
    "print(f'testing time: {time() - test_t:.3f}s')\n",
    "\n",
    "cls1, cls2, cls3, cls4 = [], [], [], []\n",
    "\n",
    "for i, x in enumerate(prediction):\n",
    "    if x == 0:\n",
    "        cls1.append(y_test.iloc[i])\n",
    "    elif x == 1:\n",
    "        cls2.append(y_test.iloc[i])\n",
    "    elif x == 2:\n",
    "        cls3.append(y_test.iloc[i])\n",
    "    elif x == 3:\n",
    "        cls4.append(y_test.iloc[i])\n",
    "     \n",
    "    \n",
    "for i, cls in enumerate([cls1, cls2, cls3, cls4]):\n",
    "    counter = Counter(list(cls))\n",
    "    print(f'cluster {i}: ', counter)"
   ]
  }
 ],
 "metadata": {
  "kernelspec": {
   "display_name": "env",
   "language": "python",
   "name": "env"
  },
  "language_info": {
   "codemirror_mode": {
    "name": "ipython",
    "version": 3
   },
   "file_extension": ".py",
   "mimetype": "text/x-python",
   "name": "python",
   "nbconvert_exporter": "python",
   "pygments_lexer": "ipython3",
   "version": "3.9.10"
  }
 },
 "nbformat": 4,
 "nbformat_minor": 5
}
